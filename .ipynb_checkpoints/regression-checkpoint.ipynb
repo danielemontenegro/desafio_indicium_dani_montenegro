{
 "cells": [
  {
   "cell_type": "markdown",
   "metadata": {},
   "source": [
    "# <center> [INDICIUM] - Processo Seletivo - Lighthouse Programa de Formação em Dados (Remoto) </center>\n",
    "    \n",
    "# <center> Treino e Teste do Modelo</center>"
   ]
  },
  {
   "cell_type": "markdown",
   "metadata": {},
   "source": [
    "### Objetivo: Identificar quais máquinas apresentam potencial de falha tendo como base dados extraídos através de sensores durante o processo de manufatura. ###"
   ]
  },
  {
   "cell_type": "code",
   "execution_count": 1,
   "metadata": {},
   "outputs": [],
   "source": [
    "#Import das libs necessárias no projeto\n",
    "import pandas as pd\n",
    "import seaborn as sn\n",
    "import numpy as np\n",
    "\n",
    "#bliblotecas para a preparação do modelo\n",
    "from sklearn.model_selection import RepeatedKFold, KFold, cross_val_score, train_test_split, GridSearchCV, RandomizedSearchCV\n",
    "from sklearn.metrics import mean_squared_error, mean_absolute_error, mean_squared_log_error\n",
    "\n",
    "#from lightgbm import LGBMRegressor\n",
    "\n",
    "import lightgbm as lgb\n",
    "\n",
    "\n",
    "#import label encoder\n",
    "from sklearn import preprocessing"
   ]
  },
  {
   "cell_type": "code",
   "execution_count": 2,
   "metadata": {},
   "outputs": [],
   "source": [
    "#Ler os dados do csv e transformar em um dataframe para possibilitar a sua manipulação\n",
    "df_treino = pd.read_csv(\"./desafio_manutencao_preditiva_treino.csv\")\n",
    "df_teste = pd.read_csv(\"./desafio_manutencao_preditiva_teste.csv\")"
   ]
  },
  {
   "cell_type": "code",
   "execution_count": 3,
   "metadata": {},
   "outputs": [
    {
     "name": "stdout",
     "output_type": "stream",
     "text": [
      "Shape train: (6667, 9), test: (3333, 8)\n"
     ]
    }
   ],
   "source": [
    "print(\"Shape train: %s, test: %s\" % (df_treino.shape, df_teste.shape))"
   ]
  },
  {
   "cell_type": "code",
   "execution_count": 4,
   "metadata": {},
   "outputs": [
    {
     "data": {
      "text/html": [
       "<div>\n",
       "<style scoped>\n",
       "    .dataframe tbody tr th:only-of-type {\n",
       "        vertical-align: middle;\n",
       "    }\n",
       "\n",
       "    .dataframe tbody tr th {\n",
       "        vertical-align: top;\n",
       "    }\n",
       "\n",
       "    .dataframe thead th {\n",
       "        text-align: right;\n",
       "    }\n",
       "</style>\n",
       "<table border=\"1\" class=\"dataframe\">\n",
       "  <thead>\n",
       "    <tr style=\"text-align: right;\">\n",
       "      <th></th>\n",
       "      <th>udi</th>\n",
       "      <th>product_id</th>\n",
       "      <th>type</th>\n",
       "      <th>air_temperature_k</th>\n",
       "      <th>process_temperature_k</th>\n",
       "      <th>rotational_speed_rpm</th>\n",
       "      <th>torque_nm</th>\n",
       "      <th>tool_wear_min</th>\n",
       "      <th>failure_type</th>\n",
       "    </tr>\n",
       "  </thead>\n",
       "  <tbody>\n",
       "    <tr>\n",
       "      <th>0</th>\n",
       "      <td>1</td>\n",
       "      <td>M14860</td>\n",
       "      <td>M</td>\n",
       "      <td>298.1</td>\n",
       "      <td>308.6</td>\n",
       "      <td>1551</td>\n",
       "      <td>42.8</td>\n",
       "      <td>0</td>\n",
       "      <td>No Failure</td>\n",
       "    </tr>\n",
       "    <tr>\n",
       "      <th>1</th>\n",
       "      <td>2</td>\n",
       "      <td>L47181</td>\n",
       "      <td>L</td>\n",
       "      <td>298.2</td>\n",
       "      <td>308.7</td>\n",
       "      <td>1408</td>\n",
       "      <td>46.3</td>\n",
       "      <td>3</td>\n",
       "      <td>No Failure</td>\n",
       "    </tr>\n",
       "    <tr>\n",
       "      <th>2</th>\n",
       "      <td>5</td>\n",
       "      <td>L47184</td>\n",
       "      <td>L</td>\n",
       "      <td>298.2</td>\n",
       "      <td>308.7</td>\n",
       "      <td>1408</td>\n",
       "      <td>40.0</td>\n",
       "      <td>9</td>\n",
       "      <td>No Failure</td>\n",
       "    </tr>\n",
       "    <tr>\n",
       "      <th>3</th>\n",
       "      <td>6</td>\n",
       "      <td>M14865</td>\n",
       "      <td>M</td>\n",
       "      <td>298.1</td>\n",
       "      <td>308.6</td>\n",
       "      <td>1425</td>\n",
       "      <td>41.9</td>\n",
       "      <td>11</td>\n",
       "      <td>No Failure</td>\n",
       "    </tr>\n",
       "    <tr>\n",
       "      <th>4</th>\n",
       "      <td>7</td>\n",
       "      <td>L47186</td>\n",
       "      <td>L</td>\n",
       "      <td>298.1</td>\n",
       "      <td>308.6</td>\n",
       "      <td>1558</td>\n",
       "      <td>42.4</td>\n",
       "      <td>14</td>\n",
       "      <td>No Failure</td>\n",
       "    </tr>\n",
       "  </tbody>\n",
       "</table>\n",
       "</div>"
      ],
      "text/plain": [
       "   udi product_id type  air_temperature_k  process_temperature_k  \\\n",
       "0    1     M14860    M              298.1                  308.6   \n",
       "1    2     L47181    L              298.2                  308.7   \n",
       "2    5     L47184    L              298.2                  308.7   \n",
       "3    6     M14865    M              298.1                  308.6   \n",
       "4    7     L47186    L              298.1                  308.6   \n",
       "\n",
       "   rotational_speed_rpm  torque_nm  tool_wear_min failure_type  \n",
       "0                  1551       42.8              0   No Failure  \n",
       "1                  1408       46.3              3   No Failure  \n",
       "2                  1408       40.0              9   No Failure  \n",
       "3                  1425       41.9             11   No Failure  \n",
       "4                  1558       42.4             14   No Failure  "
      ]
     },
     "execution_count": 4,
     "metadata": {},
     "output_type": "execute_result"
    }
   ],
   "source": [
    "df_treino.head()"
   ]
  },
  {
   "cell_type": "markdown",
   "metadata": {},
   "source": [
    "## Parte 1 - Transformação e Preprocessamento dos dados"
   ]
  },
  {
   "cell_type": "code",
   "execution_count": 5,
   "metadata": {},
   "outputs": [],
   "source": [
    "#Criando outro dataframe com base no original para poder manipular os dados \n",
    "#Importante: Só serão copiados as colunas necessárias para o processo de transformação e treino do modelo. \n",
    "df_treino_tf = df_treino[[\"air_temperature_k\", \"process_temperature_k\", \"rotational_speed_rpm\", \"torque_nm\", \"tool_wear_min\", \"failure_type\"]].copy()"
   ]
  },
  {
   "cell_type": "code",
   "execution_count": 6,
   "metadata": {},
   "outputs": [
    {
     "data": {
      "text/html": [
       "<div>\n",
       "<style scoped>\n",
       "    .dataframe tbody tr th:only-of-type {\n",
       "        vertical-align: middle;\n",
       "    }\n",
       "\n",
       "    .dataframe tbody tr th {\n",
       "        vertical-align: top;\n",
       "    }\n",
       "\n",
       "    .dataframe thead th {\n",
       "        text-align: right;\n",
       "    }\n",
       "</style>\n",
       "<table border=\"1\" class=\"dataframe\">\n",
       "  <thead>\n",
       "    <tr style=\"text-align: right;\">\n",
       "      <th></th>\n",
       "      <th>air_temperature_k</th>\n",
       "      <th>process_temperature_k</th>\n",
       "      <th>rotational_speed_rpm</th>\n",
       "      <th>torque_nm</th>\n",
       "      <th>tool_wear_min</th>\n",
       "      <th>failure_type</th>\n",
       "    </tr>\n",
       "  </thead>\n",
       "  <tbody>\n",
       "    <tr>\n",
       "      <th>0</th>\n",
       "      <td>298.1</td>\n",
       "      <td>308.6</td>\n",
       "      <td>1551</td>\n",
       "      <td>42.8</td>\n",
       "      <td>0</td>\n",
       "      <td>No Failure</td>\n",
       "    </tr>\n",
       "    <tr>\n",
       "      <th>1</th>\n",
       "      <td>298.2</td>\n",
       "      <td>308.7</td>\n",
       "      <td>1408</td>\n",
       "      <td>46.3</td>\n",
       "      <td>3</td>\n",
       "      <td>No Failure</td>\n",
       "    </tr>\n",
       "    <tr>\n",
       "      <th>2</th>\n",
       "      <td>298.2</td>\n",
       "      <td>308.7</td>\n",
       "      <td>1408</td>\n",
       "      <td>40.0</td>\n",
       "      <td>9</td>\n",
       "      <td>No Failure</td>\n",
       "    </tr>\n",
       "    <tr>\n",
       "      <th>3</th>\n",
       "      <td>298.1</td>\n",
       "      <td>308.6</td>\n",
       "      <td>1425</td>\n",
       "      <td>41.9</td>\n",
       "      <td>11</td>\n",
       "      <td>No Failure</td>\n",
       "    </tr>\n",
       "    <tr>\n",
       "      <th>4</th>\n",
       "      <td>298.1</td>\n",
       "      <td>308.6</td>\n",
       "      <td>1558</td>\n",
       "      <td>42.4</td>\n",
       "      <td>14</td>\n",
       "      <td>No Failure</td>\n",
       "    </tr>\n",
       "  </tbody>\n",
       "</table>\n",
       "</div>"
      ],
      "text/plain": [
       "   air_temperature_k  process_temperature_k  rotational_speed_rpm  torque_nm  \\\n",
       "0              298.1                  308.6                  1551       42.8   \n",
       "1              298.2                  308.7                  1408       46.3   \n",
       "2              298.2                  308.7                  1408       40.0   \n",
       "3              298.1                  308.6                  1425       41.9   \n",
       "4              298.1                  308.6                  1558       42.4   \n",
       "\n",
       "   tool_wear_min failure_type  \n",
       "0              0   No Failure  \n",
       "1              3   No Failure  \n",
       "2              9   No Failure  \n",
       "3             11   No Failure  \n",
       "4             14   No Failure  "
      ]
     },
     "execution_count": 6,
     "metadata": {},
     "output_type": "execute_result"
    }
   ],
   "source": [
    "#o novo dataframe criado\n",
    "df_treino_tf.head()"
   ]
  },
  {
   "cell_type": "code",
   "execution_count": 7,
   "metadata": {},
   "outputs": [
    {
     "data": {
      "text/plain": [
       "array(['No Failure', 'Power Failure', 'Tool Wear Failure',\n",
       "       'Overstrain Failure', 'Random Failures',\n",
       "       'Heat Dissipation Failure'], dtype=object)"
      ]
     },
     "execution_count": 7,
     "metadata": {},
     "output_type": "execute_result"
    }
   ],
   "source": [
    "df_treino_tf['failure_type'].unique()"
   ]
  },
  {
   "cell_type": "code",
   "execution_count": 8,
   "metadata": {},
   "outputs": [],
   "source": [
    "#transformar o y  \n",
    "#make an instance of Label Encoder\n",
    "label_encoder = preprocessing.LabelEncoder()\n",
    "df_treino_tf[\"failure_type\"] = label_encoder.fit_transform(df_treino_tf[\"failure_type\"])"
   ]
  },
  {
   "cell_type": "code",
   "execution_count": 9,
   "metadata": {},
   "outputs": [
    {
     "data": {
      "text/plain": [
       "array([1, 3, 5, 2, 4, 0])"
      ]
     },
     "execution_count": 9,
     "metadata": {},
     "output_type": "execute_result"
    }
   ],
   "source": [
    "df_treino_tf['failure_type'].unique()"
   ]
  },
  {
   "cell_type": "code",
   "execution_count": 10,
   "metadata": {},
   "outputs": [
    {
     "data": {
      "text/html": [
       "<div>\n",
       "<style scoped>\n",
       "    .dataframe tbody tr th:only-of-type {\n",
       "        vertical-align: middle;\n",
       "    }\n",
       "\n",
       "    .dataframe tbody tr th {\n",
       "        vertical-align: top;\n",
       "    }\n",
       "\n",
       "    .dataframe thead th {\n",
       "        text-align: right;\n",
       "    }\n",
       "</style>\n",
       "<table border=\"1\" class=\"dataframe\">\n",
       "  <thead>\n",
       "    <tr style=\"text-align: right;\">\n",
       "      <th></th>\n",
       "      <th>air_temperature_k</th>\n",
       "      <th>process_temperature_k</th>\n",
       "      <th>rotational_speed_rpm</th>\n",
       "      <th>torque_nm</th>\n",
       "      <th>tool_wear_min</th>\n",
       "      <th>failure_type</th>\n",
       "    </tr>\n",
       "  </thead>\n",
       "  <tbody>\n",
       "    <tr>\n",
       "      <th>0</th>\n",
       "      <td>298.1</td>\n",
       "      <td>308.6</td>\n",
       "      <td>1551</td>\n",
       "      <td>42.8</td>\n",
       "      <td>0</td>\n",
       "      <td>1</td>\n",
       "    </tr>\n",
       "    <tr>\n",
       "      <th>1</th>\n",
       "      <td>298.2</td>\n",
       "      <td>308.7</td>\n",
       "      <td>1408</td>\n",
       "      <td>46.3</td>\n",
       "      <td>3</td>\n",
       "      <td>1</td>\n",
       "    </tr>\n",
       "    <tr>\n",
       "      <th>2</th>\n",
       "      <td>298.2</td>\n",
       "      <td>308.7</td>\n",
       "      <td>1408</td>\n",
       "      <td>40.0</td>\n",
       "      <td>9</td>\n",
       "      <td>1</td>\n",
       "    </tr>\n",
       "    <tr>\n",
       "      <th>3</th>\n",
       "      <td>298.1</td>\n",
       "      <td>308.6</td>\n",
       "      <td>1425</td>\n",
       "      <td>41.9</td>\n",
       "      <td>11</td>\n",
       "      <td>1</td>\n",
       "    </tr>\n",
       "    <tr>\n",
       "      <th>4</th>\n",
       "      <td>298.1</td>\n",
       "      <td>308.6</td>\n",
       "      <td>1558</td>\n",
       "      <td>42.4</td>\n",
       "      <td>14</td>\n",
       "      <td>1</td>\n",
       "    </tr>\n",
       "  </tbody>\n",
       "</table>\n",
       "</div>"
      ],
      "text/plain": [
       "   air_temperature_k  process_temperature_k  rotational_speed_rpm  torque_nm  \\\n",
       "0              298.1                  308.6                  1551       42.8   \n",
       "1              298.2                  308.7                  1408       46.3   \n",
       "2              298.2                  308.7                  1408       40.0   \n",
       "3              298.1                  308.6                  1425       41.9   \n",
       "4              298.1                  308.6                  1558       42.4   \n",
       "\n",
       "   tool_wear_min  failure_type  \n",
       "0              0             1  \n",
       "1              3             1  \n",
       "2              9             1  \n",
       "3             11             1  \n",
       "4             14             1  "
      ]
     },
     "execution_count": 10,
     "metadata": {},
     "output_type": "execute_result"
    }
   ],
   "source": [
    "#O dataframe com os dados da coluna failure_type transformados\n",
    "df_treino_tf.head()"
   ]
  },
  {
   "cell_type": "code",
   "execution_count": 11,
   "metadata": {},
   "outputs": [
    {
     "data": {
      "text/plain": [
       "5341    1\n",
       "3043    1\n",
       "5154    1\n",
       "Name: failure_type, dtype: int64"
      ]
     },
     "execution_count": 11,
     "metadata": {},
     "output_type": "execute_result"
    }
   ],
   "source": [
    "#definindo o y\n",
    "y = df_treino_tf[\"failure_type\"]\n",
    "y.sample(3)"
   ]
  },
  {
   "cell_type": "code",
   "execution_count": 12,
   "metadata": {},
   "outputs": [],
   "source": [
    "#retirando o y do conjunto de treino e as colunas que não seram utilizadas durante o processo de treinamento\n",
    "df_treino_tf.drop([\"failure_type\"], axis=1, inplace=True)"
   ]
  },
  {
   "cell_type": "code",
   "execution_count": 13,
   "metadata": {
    "scrolled": true
   },
   "outputs": [
    {
     "data": {
      "text/html": [
       "<div>\n",
       "<style scoped>\n",
       "    .dataframe tbody tr th:only-of-type {\n",
       "        vertical-align: middle;\n",
       "    }\n",
       "\n",
       "    .dataframe tbody tr th {\n",
       "        vertical-align: top;\n",
       "    }\n",
       "\n",
       "    .dataframe thead th {\n",
       "        text-align: right;\n",
       "    }\n",
       "</style>\n",
       "<table border=\"1\" class=\"dataframe\">\n",
       "  <thead>\n",
       "    <tr style=\"text-align: right;\">\n",
       "      <th></th>\n",
       "      <th>air_temperature_k</th>\n",
       "      <th>process_temperature_k</th>\n",
       "      <th>rotational_speed_rpm</th>\n",
       "      <th>torque_nm</th>\n",
       "      <th>tool_wear_min</th>\n",
       "    </tr>\n",
       "  </thead>\n",
       "  <tbody>\n",
       "    <tr>\n",
       "      <th>0</th>\n",
       "      <td>298.1</td>\n",
       "      <td>308.6</td>\n",
       "      <td>1551</td>\n",
       "      <td>42.8</td>\n",
       "      <td>0</td>\n",
       "    </tr>\n",
       "    <tr>\n",
       "      <th>1</th>\n",
       "      <td>298.2</td>\n",
       "      <td>308.7</td>\n",
       "      <td>1408</td>\n",
       "      <td>46.3</td>\n",
       "      <td>3</td>\n",
       "    </tr>\n",
       "    <tr>\n",
       "      <th>2</th>\n",
       "      <td>298.2</td>\n",
       "      <td>308.7</td>\n",
       "      <td>1408</td>\n",
       "      <td>40.0</td>\n",
       "      <td>9</td>\n",
       "    </tr>\n",
       "    <tr>\n",
       "      <th>3</th>\n",
       "      <td>298.1</td>\n",
       "      <td>308.6</td>\n",
       "      <td>1425</td>\n",
       "      <td>41.9</td>\n",
       "      <td>11</td>\n",
       "    </tr>\n",
       "    <tr>\n",
       "      <th>4</th>\n",
       "      <td>298.1</td>\n",
       "      <td>308.6</td>\n",
       "      <td>1558</td>\n",
       "      <td>42.4</td>\n",
       "      <td>14</td>\n",
       "    </tr>\n",
       "    <tr>\n",
       "      <th>...</th>\n",
       "      <td>...</td>\n",
       "      <td>...</td>\n",
       "      <td>...</td>\n",
       "      <td>...</td>\n",
       "      <td>...</td>\n",
       "    </tr>\n",
       "    <tr>\n",
       "      <th>6662</th>\n",
       "      <td>298.8</td>\n",
       "      <td>308.3</td>\n",
       "      <td>1634</td>\n",
       "      <td>27.9</td>\n",
       "      <td>12</td>\n",
       "    </tr>\n",
       "    <tr>\n",
       "      <th>6663</th>\n",
       "      <td>298.8</td>\n",
       "      <td>308.4</td>\n",
       "      <td>1604</td>\n",
       "      <td>29.5</td>\n",
       "      <td>14</td>\n",
       "    </tr>\n",
       "    <tr>\n",
       "      <th>6664</th>\n",
       "      <td>298.9</td>\n",
       "      <td>308.4</td>\n",
       "      <td>1632</td>\n",
       "      <td>31.8</td>\n",
       "      <td>17</td>\n",
       "    </tr>\n",
       "    <tr>\n",
       "      <th>6665</th>\n",
       "      <td>299.0</td>\n",
       "      <td>308.7</td>\n",
       "      <td>1408</td>\n",
       "      <td>48.5</td>\n",
       "      <td>25</td>\n",
       "    </tr>\n",
       "    <tr>\n",
       "      <th>6666</th>\n",
       "      <td>299.0</td>\n",
       "      <td>308.7</td>\n",
       "      <td>1500</td>\n",
       "      <td>40.2</td>\n",
       "      <td>30</td>\n",
       "    </tr>\n",
       "  </tbody>\n",
       "</table>\n",
       "<p>6667 rows × 5 columns</p>\n",
       "</div>"
      ],
      "text/plain": [
       "      air_temperature_k  process_temperature_k  rotational_speed_rpm  \\\n",
       "0                 298.1                  308.6                  1551   \n",
       "1                 298.2                  308.7                  1408   \n",
       "2                 298.2                  308.7                  1408   \n",
       "3                 298.1                  308.6                  1425   \n",
       "4                 298.1                  308.6                  1558   \n",
       "...                 ...                    ...                   ...   \n",
       "6662              298.8                  308.3                  1634   \n",
       "6663              298.8                  308.4                  1604   \n",
       "6664              298.9                  308.4                  1632   \n",
       "6665              299.0                  308.7                  1408   \n",
       "6666              299.0                  308.7                  1500   \n",
       "\n",
       "      torque_nm  tool_wear_min  \n",
       "0          42.8              0  \n",
       "1          46.3              3  \n",
       "2          40.0              9  \n",
       "3          41.9             11  \n",
       "4          42.4             14  \n",
       "...         ...            ...  \n",
       "6662       27.9             12  \n",
       "6663       29.5             14  \n",
       "6664       31.8             17  \n",
       "6665       48.5             25  \n",
       "6666       40.2             30  \n",
       "\n",
       "[6667 rows x 5 columns]"
      ]
     },
     "execution_count": 13,
     "metadata": {},
     "output_type": "execute_result"
    }
   ],
   "source": [
    "df_treino_tf"
   ]
  },
  {
   "cell_type": "code",
   "execution_count": 14,
   "metadata": {},
   "outputs": [],
   "source": [
    "#definindo o conjunto de treino\n",
    "X_train, X_test, y_train, y_test = train_test_split(df_treino_tf, y, test_size=0.2, random_state=42)"
   ]
  },
  {
   "cell_type": "markdown",
   "metadata": {},
   "source": [
    "## Parte 2 - Criação dos modelos"
   ]
  },
  {
   "cell_type": "code",
   "execution_count": null,
   "metadata": {},
   "outputs": [],
   "source": []
  },
  {
   "cell_type": "code",
   "execution_count": 15,
   "metadata": {},
   "outputs": [],
   "source": [
    "#create model\n",
    "def model_lgbmr():\n",
    "    model = LGBMRegressor(objective='regression',\n",
    "                          num_leaves=166,\n",
    "                          learning_rate=0.05, \n",
    "                          n_estimators=120,\n",
    "                          max_bin = 55, \n",
    "                          bagging_fraction = 0.8,\n",
    "                          bagging_freq = 5, \n",
    "                          feature_fraction = 0.2319,\n",
    "                          feature_fraction_seed=9, \n",
    "                          bagging_seed=9,\n",
    "                          min_data_in_leaf =6, \n",
    "                          min_sum_hessian_in_leaf = 11)\n",
    "    return model"
   ]
  },
  {
   "cell_type": "code",
   "execution_count": 16,
   "metadata": {},
   "outputs": [],
   "source": [
    "gbm = model_lgbmr()"
   ]
  },
  {
   "cell_type": "code",
   "execution_count": 17,
   "metadata": {},
   "outputs": [
    {
     "name": "stdout",
     "output_type": "stream",
     "text": [
      "[LightGBM] [Warning] feature_fraction is set=0.2319, colsample_bytree=1.0 will be ignored. Current value: feature_fraction=0.2319\n",
      "[LightGBM] [Warning] min_sum_hessian_in_leaf is set=11, min_child_weight=0.001 will be ignored. Current value: min_sum_hessian_in_leaf=11\n",
      "[LightGBM] [Warning] min_data_in_leaf is set=6, min_child_samples=20 will be ignored. Current value: min_data_in_leaf=6\n",
      "[LightGBM] [Warning] bagging_freq is set=5, subsample_freq=0 will be ignored. Current value: bagging_freq=5\n",
      "[LightGBM] [Warning] bagging_fraction is set=0.8, subsample=1.0 will be ignored. Current value: bagging_fraction=0.8\n",
      "[1]\tvalid_0's l1: 0.0901653\tvalid_0's l2: 0.116488\n",
      "[2]\tvalid_0's l1: 0.089679\tvalid_0's l2: 0.115775\n",
      "[3]\tvalid_0's l1: 0.089217\tvalid_0's l2: 0.115133\n",
      "[4]\tvalid_0's l1: 0.0891168\tvalid_0's l2: 0.115048\n",
      "[5]\tvalid_0's l1: 0.0888455\tvalid_0's l2: 0.114352\n",
      "[6]\tvalid_0's l1: 0.0889382\tvalid_0's l2: 0.114241\n",
      "[7]\tvalid_0's l1: 0.0890263\tvalid_0's l2: 0.114154\n",
      "[8]\tvalid_0's l1: 0.0891141\tvalid_0's l2: 0.113561\n",
      "[9]\tvalid_0's l1: 0.0886885\tvalid_0's l2: 0.112785\n",
      "[10]\tvalid_0's l1: 0.0887659\tvalid_0's l2: 0.112273\n",
      "[11]\tvalid_0's l1: 0.0887702\tvalid_0's l2: 0.112267\n",
      "[12]\tvalid_0's l1: 0.0882188\tvalid_0's l2: 0.111713\n",
      "[13]\tvalid_0's l1: 0.0881691\tvalid_0's l2: 0.111745\n",
      "[14]\tvalid_0's l1: 0.0880297\tvalid_0's l2: 0.1114\n",
      "[15]\tvalid_0's l1: 0.0880628\tvalid_0's l2: 0.111404\n",
      "[16]\tvalid_0's l1: 0.0879208\tvalid_0's l2: 0.111118\n",
      "[17]\tvalid_0's l1: 0.0877908\tvalid_0's l2: 0.110874\n",
      "[18]\tvalid_0's l1: 0.0878518\tvalid_0's l2: 0.110874\n",
      "[19]\tvalid_0's l1: 0.0877538\tvalid_0's l2: 0.110668\n",
      "[20]\tvalid_0's l1: 0.08729\tvalid_0's l2: 0.110062\n",
      "[21]\tvalid_0's l1: 0.087093\tvalid_0's l2: 0.109629\n",
      "[22]\tvalid_0's l1: 0.0872252\tvalid_0's l2: 0.109688\n",
      "[23]\tvalid_0's l1: 0.0870586\tvalid_0's l2: 0.109303\n",
      "[24]\tvalid_0's l1: 0.087272\tvalid_0's l2: 0.109309\n",
      "[25]\tvalid_0's l1: 0.0874446\tvalid_0's l2: 0.109115\n",
      "[26]\tvalid_0's l1: 0.0875136\tvalid_0's l2: 0.108911\n",
      "[27]\tvalid_0's l1: 0.0877497\tvalid_0's l2: 0.108953\n",
      "[28]\tvalid_0's l1: 0.0876089\tvalid_0's l2: 0.108601\n",
      "[29]\tvalid_0's l1: 0.0879107\tvalid_0's l2: 0.108652\n",
      "[30]\tvalid_0's l1: 0.0879667\tvalid_0's l2: 0.108677\n",
      "[31]\tvalid_0's l1: 0.0883263\tvalid_0's l2: 0.108664\n",
      "[32]\tvalid_0's l1: 0.0887326\tvalid_0's l2: 0.108664\n",
      "[33]\tvalid_0's l1: 0.0892562\tvalid_0's l2: 0.108684\n",
      "[34]\tvalid_0's l1: 0.089393\tvalid_0's l2: 0.108307\n",
      "[35]\tvalid_0's l1: 0.089915\tvalid_0's l2: 0.108332\n",
      "[36]\tvalid_0's l1: 0.0901897\tvalid_0's l2: 0.108362\n",
      "[37]\tvalid_0's l1: 0.0902263\tvalid_0's l2: 0.108041\n",
      "[38]\tvalid_0's l1: 0.0902936\tvalid_0's l2: 0.107756\n",
      "[39]\tvalid_0's l1: 0.0905476\tvalid_0's l2: 0.10781\n",
      "[40]\tvalid_0's l1: 0.0910694\tvalid_0's l2: 0.107854\n",
      "[41]\tvalid_0's l1: 0.0914443\tvalid_0's l2: 0.107896\n",
      "[42]\tvalid_0's l1: 0.0917184\tvalid_0's l2: 0.107954\n",
      "[43]\tvalid_0's l1: 0.0919624\tvalid_0's l2: 0.107985\n",
      "[44]\tvalid_0's l1: 0.0922818\tvalid_0's l2: 0.108046\n",
      "[45]\tvalid_0's l1: 0.0926333\tvalid_0's l2: 0.108089\n",
      "[46]\tvalid_0's l1: 0.0926766\tvalid_0's l2: 0.107801\n",
      "[47]\tvalid_0's l1: 0.0931041\tvalid_0's l2: 0.107684\n",
      "[48]\tvalid_0's l1: 0.0933013\tvalid_0's l2: 0.107716\n",
      "[49]\tvalid_0's l1: 0.0935843\tvalid_0's l2: 0.107791\n",
      "[50]\tvalid_0's l1: 0.0938078\tvalid_0's l2: 0.107828\n",
      "[51]\tvalid_0's l1: 0.093803\tvalid_0's l2: 0.107617\n",
      "[52]\tvalid_0's l1: 0.0941607\tvalid_0's l2: 0.10749\n",
      "[53]\tvalid_0's l1: 0.0942127\tvalid_0's l2: 0.107304\n",
      "[54]\tvalid_0's l1: 0.0946052\tvalid_0's l2: 0.107199\n",
      "[55]\tvalid_0's l1: 0.0947793\tvalid_0's l2: 0.107239\n",
      "[56]\tvalid_0's l1: 0.0951026\tvalid_0's l2: 0.107281\n",
      "[57]\tvalid_0's l1: 0.0954143\tvalid_0's l2: 0.107331\n",
      "[58]\tvalid_0's l1: 0.0956447\tvalid_0's l2: 0.107189\n",
      "[59]\tvalid_0's l1: 0.0959848\tvalid_0's l2: 0.107235\n",
      "[60]\tvalid_0's l1: 0.0964636\tvalid_0's l2: 0.107271\n",
      "[61]\tvalid_0's l1: 0.0965873\tvalid_0's l2: 0.10732\n",
      "[62]\tvalid_0's l1: 0.0970197\tvalid_0's l2: 0.107202\n",
      "[63]\tvalid_0's l1: 0.0972792\tvalid_0's l2: 0.107259\n",
      "[64]\tvalid_0's l1: 0.0974083\tvalid_0's l2: 0.107309\n",
      "[65]\tvalid_0's l1: 0.0976857\tvalid_0's l2: 0.107369\n",
      "[66]\tvalid_0's l1: 0.0981997\tvalid_0's l2: 0.10725\n",
      "[67]\tvalid_0's l1: 0.0984683\tvalid_0's l2: 0.107301\n",
      "[68]\tvalid_0's l1: 0.0987257\tvalid_0's l2: 0.10711\n",
      "[69]\tvalid_0's l1: 0.0991532\tvalid_0's l2: 0.107158\n",
      "[70]\tvalid_0's l1: 0.0995081\tvalid_0's l2: 0.107222\n",
      "[71]\tvalid_0's l1: 0.0996947\tvalid_0's l2: 0.107088\n",
      "[72]\tvalid_0's l1: 0.0999154\tvalid_0's l2: 0.107123\n",
      "[73]\tvalid_0's l1: 0.100105\tvalid_0's l2: 0.107001\n",
      "[74]\tvalid_0's l1: 0.100337\tvalid_0's l2: 0.107038\n",
      "[75]\tvalid_0's l1: 0.10074\tvalid_0's l2: 0.106977\n",
      "[76]\tvalid_0's l1: 0.101085\tvalid_0's l2: 0.107074\n",
      "[77]\tvalid_0's l1: 0.101469\tvalid_0's l2: 0.10702\n",
      "[78]\tvalid_0's l1: 0.101823\tvalid_0's l2: 0.107117\n",
      "[79]\tvalid_0's l1: 0.10215\tvalid_0's l2: 0.107133\n",
      "[80]\tvalid_0's l1: 0.10255\tvalid_0's l2: 0.107095\n",
      "[81]\tvalid_0's l1: 0.102834\tvalid_0's l2: 0.107131\n",
      "[82]\tvalid_0's l1: 0.10295\tvalid_0's l2: 0.107046\n",
      "[83]\tvalid_0's l1: 0.103302\tvalid_0's l2: 0.107056\n",
      "[84]\tvalid_0's l1: 0.103396\tvalid_0's l2: 0.107094\n",
      "[85]\tvalid_0's l1: 0.103745\tvalid_0's l2: 0.10711\n",
      "[86]\tvalid_0's l1: 0.103886\tvalid_0's l2: 0.107152\n",
      "[87]\tvalid_0's l1: 0.104127\tvalid_0's l2: 0.107131\n",
      "[88]\tvalid_0's l1: 0.104364\tvalid_0's l2: 0.107116\n",
      "[89]\tvalid_0's l1: 0.104603\tvalid_0's l2: 0.107106\n",
      "[90]\tvalid_0's l1: 0.104773\tvalid_0's l2: 0.107138\n",
      "[91]\tvalid_0's l1: 0.105098\tvalid_0's l2: 0.107006\n",
      "[92]\tvalid_0's l1: 0.105505\tvalid_0's l2: 0.107055\n",
      "[93]\tvalid_0's l1: 0.105822\tvalid_0's l2: 0.106942\n",
      "[94]\tvalid_0's l1: 0.106251\tvalid_0's l2: 0.107012\n",
      "[95]\tvalid_0's l1: 0.106696\tvalid_0's l2: 0.107056\n",
      "[96]\tvalid_0's l1: 0.106861\tvalid_0's l2: 0.106955\n",
      "[97]\tvalid_0's l1: 0.107093\tvalid_0's l2: 0.107011\n",
      "[98]\tvalid_0's l1: 0.107402\tvalid_0's l2: 0.107074\n",
      "[99]\tvalid_0's l1: 0.107626\tvalid_0's l2: 0.107129\n",
      "[100]\tvalid_0's l1: 0.108159\tvalid_0's l2: 0.107186\n",
      "[101]\tvalid_0's l1: 0.108367\tvalid_0's l2: 0.107205\n",
      "[102]\tvalid_0's l1: 0.108598\tvalid_0's l2: 0.107233\n",
      "[103]\tvalid_0's l1: 0.108826\tvalid_0's l2: 0.107263\n",
      "[104]\tvalid_0's l1: 0.10915\tvalid_0's l2: 0.107366\n",
      "[105]\tvalid_0's l1: 0.109332\tvalid_0's l2: 0.107396\n",
      "[106]\tvalid_0's l1: 0.109444\tvalid_0's l2: 0.107425\n",
      "[107]\tvalid_0's l1: 0.109525\tvalid_0's l2: 0.107452\n",
      "[108]\tvalid_0's l1: 0.109607\tvalid_0's l2: 0.107479\n",
      "[109]\tvalid_0's l1: 0.109695\tvalid_0's l2: 0.107507\n",
      "[110]\tvalid_0's l1: 0.109826\tvalid_0's l2: 0.107538\n",
      "[111]\tvalid_0's l1: 0.109949\tvalid_0's l2: 0.107548\n",
      "[112]\tvalid_0's l1: 0.11007\tvalid_0's l2: 0.107576\n",
      "[113]\tvalid_0's l1: 0.110372\tvalid_0's l2: 0.107558\n",
      "[114]\tvalid_0's l1: 0.110671\tvalid_0's l2: 0.107546\n",
      "[115]\tvalid_0's l1: 0.110807\tvalid_0's l2: 0.107565\n",
      "[116]\tvalid_0's l1: 0.110886\tvalid_0's l2: 0.107449\n",
      "[117]\tvalid_0's l1: 0.110915\tvalid_0's l2: 0.107459\n",
      "[118]\tvalid_0's l1: 0.111186\tvalid_0's l2: 0.107492\n",
      "[119]\tvalid_0's l1: 0.11129\tvalid_0's l2: 0.107532\n",
      "[120]\tvalid_0's l1: 0.111443\tvalid_0's l2: 0.10754\n"
     ]
    },
    {
     "data": {
      "text/plain": [
       "LGBMRegressor(bagging_fraction=0.8, bagging_freq=5, bagging_seed=9,\n",
       "              feature_fraction=0.2319, feature_fraction_seed=9,\n",
       "              learning_rate=0.05, max_bin=55, min_data_in_leaf=6,\n",
       "              min_sum_hessian_in_leaf=11, n_estimators=120, num_leaves=166,\n",
       "              objective='regression')"
      ]
     },
     "execution_count": 17,
     "metadata": {},
     "output_type": "execute_result"
    }
   ],
   "source": [
    "gbm.fit(X_train, y_train,\n",
    "        eval_set=[(X_test, y_test)],\n",
    "        eval_metric='l1')"
   ]
  },
  {
   "cell_type": "code",
   "execution_count": null,
   "metadata": {},
   "outputs": [],
   "source": [
    "#criando o cross validation\n",
    "\n",
    "# 5 Fold Cross validation\n",
    "kf = KFold(n_splits=5, shuffle=True)\n",
    "cv_scores, cv_std = [], []"
   ]
  },
  {
   "cell_type": "code",
   "execution_count": 19,
   "metadata": {},
   "outputs": [],
   "source": [
    "y_pred = gbm.predict(X_train, num_iteration=gbm.best_iteration_)"
   ]
  },
  {
   "cell_type": "code",
   "execution_count": 20,
   "metadata": {},
   "outputs": [
    {
     "name": "stdout",
     "output_type": "stream",
     "text": [
      "The rmse of prediction is: 0.12563\n"
     ]
    }
   ],
   "source": [
    "# Basic RMSE\n",
    "print('The rmse of prediction is:', round(mean_squared_log_error(y_pred, y_train) ** 0.5, 5))"
   ]
  },
  {
   "cell_type": "code",
   "execution_count": 22,
   "metadata": {},
   "outputs": [
    {
     "ename": "ValueError",
     "evalue": "Number of features of the model must match the input. Model n_features_ is 5 and input n_features is 8",
     "output_type": "error",
     "traceback": [
      "\u001b[0;31m---------------------------------------------------------------------------\u001b[0m",
      "\u001b[0;31mValueError\u001b[0m                                Traceback (most recent call last)",
      "\u001b[0;32m<ipython-input-22-f78dcb73eb16>\u001b[0m in \u001b[0;36m<module>\u001b[0;34m\u001b[0m\n\u001b[0;32m----> 1\u001b[0;31m \u001b[0mtest_pred\u001b[0m \u001b[0;34m=\u001b[0m \u001b[0mnp\u001b[0m\u001b[0;34m.\u001b[0m\u001b[0mexpm1\u001b[0m\u001b[0;34m(\u001b[0m\u001b[0mgbm\u001b[0m\u001b[0;34m.\u001b[0m\u001b[0mpredict\u001b[0m\u001b[0;34m(\u001b[0m\u001b[0mdf_teste\u001b[0m\u001b[0;34m,\u001b[0m \u001b[0mnum_iteration\u001b[0m\u001b[0;34m=\u001b[0m\u001b[0mgbm\u001b[0m\u001b[0;34m.\u001b[0m\u001b[0mbest_iteration_\u001b[0m\u001b[0;34m)\u001b[0m\u001b[0;34m)\u001b[0m\u001b[0;34m\u001b[0m\u001b[0;34m\u001b[0m\u001b[0m\n\u001b[0m",
      "\u001b[0;32m~/anaconda3/envs/env_deep/lib/python3.7/site-packages/lightgbm/sklearn.py\u001b[0m in \u001b[0;36mpredict\u001b[0;34m(self, X, raw_score, start_iteration, num_iteration, pred_leaf, pred_contrib, **kwargs)\u001b[0m\n\u001b[1;32m    798\u001b[0m         \u001b[0mn_features\u001b[0m \u001b[0;34m=\u001b[0m \u001b[0mX\u001b[0m\u001b[0;34m.\u001b[0m\u001b[0mshape\u001b[0m\u001b[0;34m[\u001b[0m\u001b[0;36m1\u001b[0m\u001b[0;34m]\u001b[0m\u001b[0;34m\u001b[0m\u001b[0;34m\u001b[0m\u001b[0m\n\u001b[1;32m    799\u001b[0m         \u001b[0;32mif\u001b[0m \u001b[0mself\u001b[0m\u001b[0;34m.\u001b[0m\u001b[0m_n_features\u001b[0m \u001b[0;34m!=\u001b[0m \u001b[0mn_features\u001b[0m\u001b[0;34m:\u001b[0m\u001b[0;34m\u001b[0m\u001b[0;34m\u001b[0m\u001b[0m\n\u001b[0;32m--> 800\u001b[0;31m             raise ValueError(\"Number of features of the model must \"\n\u001b[0m\u001b[1;32m    801\u001b[0m                              \u001b[0;34mf\"match the input. Model n_features_ is {self._n_features} and \"\u001b[0m\u001b[0;34m\u001b[0m\u001b[0;34m\u001b[0m\u001b[0m\n\u001b[1;32m    802\u001b[0m                              f\"input n_features is {n_features}\")\n",
      "\u001b[0;31mValueError\u001b[0m: Number of features of the model must match the input. Model n_features_ is 5 and input n_features is 8"
     ]
    }
   ],
   "source": [
    "test_pred = np.expm1(gbm.predict(df_teste, num_iteration=gbm.best_iteration_))"
   ]
  },
  {
   "cell_type": "code",
   "execution_count": null,
   "metadata": {},
   "outputs": [],
   "source": [
    "df_teste[\"failure_type\"] = test_pred\n",
    "df_test.to_csv(\"resultado.csv\", columns=[\"Id\", \"failure_type\"], index=False)"
   ]
  },
  {
   "cell_type": "code",
   "execution_count": 18,
   "metadata": {},
   "outputs": [
    {
     "ename": "NameError",
     "evalue": "name 'model' is not defined",
     "output_type": "error",
     "traceback": [
      "\u001b[0;31m---------------------------------------------------------------------------\u001b[0m",
      "\u001b[0;31mNameError\u001b[0m                                 Traceback (most recent call last)",
      "\u001b[0;32m<ipython-input-18-e7a364249a9f>\u001b[0m in \u001b[0;36m<module>\u001b[0;34m\u001b[0m\n\u001b[1;32m      1\u001b[0m \u001b[0;31m# evaluate model\u001b[0m\u001b[0;34m\u001b[0m\u001b[0;34m\u001b[0m\u001b[0;34m\u001b[0m\u001b[0m\n\u001b[1;32m      2\u001b[0m \u001b[0mcv\u001b[0m \u001b[0;34m=\u001b[0m \u001b[0mKFold\u001b[0m\u001b[0;34m(\u001b[0m\u001b[0mn_splits\u001b[0m\u001b[0;34m=\u001b[0m\u001b[0;36m10\u001b[0m\u001b[0;34m,\u001b[0m \u001b[0mshuffle\u001b[0m\u001b[0;34m=\u001b[0m\u001b[0;32mTrue\u001b[0m\u001b[0;34m,\u001b[0m \u001b[0mrandom_state\u001b[0m\u001b[0;34m=\u001b[0m\u001b[0;36m1\u001b[0m\u001b[0;34m)\u001b[0m\u001b[0;34m\u001b[0m\u001b[0;34m\u001b[0m\u001b[0m\n\u001b[0;32m----> 3\u001b[0;31m \u001b[0mscores\u001b[0m \u001b[0;34m=\u001b[0m \u001b[0mcross_val_score\u001b[0m\u001b[0;34m(\u001b[0m\u001b[0mmodel\u001b[0m\u001b[0;34m,\u001b[0m \u001b[0mX\u001b[0m\u001b[0;34m,\u001b[0m \u001b[0my\u001b[0m\u001b[0;34m,\u001b[0m \u001b[0mscoring\u001b[0m\u001b[0;34m=\u001b[0m\u001b[0;34m'neg_mean_absolute_error'\u001b[0m\u001b[0;34m,\u001b[0m \u001b[0mcv\u001b[0m\u001b[0;34m=\u001b[0m\u001b[0mcv\u001b[0m\u001b[0;34m,\u001b[0m \u001b[0mn_jobs\u001b[0m\u001b[0;34m=\u001b[0m\u001b[0;34m-\u001b[0m\u001b[0;36m1\u001b[0m\u001b[0;34m)\u001b[0m\u001b[0;34m\u001b[0m\u001b[0;34m\u001b[0m\u001b[0m\n\u001b[0m",
      "\u001b[0;31mNameError\u001b[0m: name 'model' is not defined"
     ]
    }
   ],
   "source": [
    "# evaluate model\n",
    "cv = KFold(n_splits=10, shuffle=True, random_state=1)\n",
    "scores = cross_val_score(model, X, y, scoring='neg_mean_absolute_error', cv=cv, n_jobs=-1)"
   ]
  },
  {
   "cell_type": "code",
   "execution_count": null,
   "metadata": {},
   "outputs": [],
   "source": [
    "# Creation of the RMSE metric:    \n",
    "def rmse(model):\n",
    "    return np.sqrt(-cross_val_score(model, data, target, scoring=\"neg_mean_squared_error\", cv=kf))"
   ]
  },
  {
   "cell_type": "code",
   "execution_count": null,
   "metadata": {},
   "outputs": [],
   "source": [
    "def apply_learning_algorithm(model):\n",
    "    score = rmse(model)\n",
    "    cv_scores.append(score.mean())\n",
    "    cv_std.append(score.std())"
   ]
  },
  {
   "cell_type": "code",
   "execution_count": null,
   "metadata": {},
   "outputs": [],
   "source": [
    "model = model_lgbmr()\n",
    "model.fit()"
   ]
  },
  {
   "cell_type": "code",
   "execution_count": null,
   "metadata": {},
   "outputs": [],
   "source": []
  },
  {
   "cell_type": "code",
   "execution_count": null,
   "metadata": {},
   "outputs": [],
   "source": []
  }
 ],
 "metadata": {
  "kernelspec": {
   "display_name": "Python 3",
   "language": "python",
   "name": "python3"
  },
  "language_info": {
   "codemirror_mode": {
    "name": "ipython",
    "version": 3
   },
   "file_extension": ".py",
   "mimetype": "text/x-python",
   "name": "python",
   "nbconvert_exporter": "python",
   "pygments_lexer": "ipython3",
   "version": "3.7.7"
  }
 },
 "nbformat": 4,
 "nbformat_minor": 4
}
